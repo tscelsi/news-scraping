{
 "cells": [
  {
   "cell_type": "code",
   "execution_count": 1,
   "metadata": {},
   "outputs": [],
   "source": [
    "from v2.article_info_agent import ArticleInfoAgent\n",
    "from v2.soup_helpers import create_soup_with_body_as_root\n",
    "import httpx\n",
    "agent = ArticleInfoAgent()"
   ]
  },
  {
   "cell_type": "code",
   "execution_count": 2,
   "metadata": {},
   "outputs": [],
   "source": [
    "url = \"https://www.theage.com.au/politics/federal/allies-have-to-compete-aggressively-with-china-for-pacific-security-us-warns-20240204-p5f2aj.html\"\n",
    "response = httpx.get(url)\n",
    "soup = create_soup_with_body_as_root(response.text)"
   ]
  },
  {
   "cell_type": "code",
   "execution_count": 3,
   "metadata": {},
   "outputs": [
    {
     "name": "stdout",
     "output_type": "stream",
     "text": [
      "Creating prompts...\n",
      "[SystemMessage(content='You work at a leading tech web development firm.\\nYour expertise lies in identifying desired information from raw HTML.\\nYou have a knack for dissecting complex html parse trees that may not always show information in a structured and consistent format.'), HumanMessage(content='Please find the title of the article and the date the article was published from the following html. The html is taken from a news or blog article so you should always find the correct information somewhere in the text.\\n<body class=\"\"><div id=\"app\"><div class=\"_3ic7p printOnly\"><div class=\"_3uPYr _2qnYw\"><a class=\"_2ABN- _28ZlE\" href=\"/\"></a></div></div><div aria-hidden=\"true\" class=\"_2yAUQ\" data-testid=\"site-menu\" id=\"navigation\"><ul class=\"_2fq7t\" role=\"tablist\"><li class=\"rGXdz\" role=\"presentation\"><a aria-controls=\"sections\" aria-selected=\"true\" href=\"#sections\" id=\"navSections\" role=\"tab\" tabindex=\"0\">Sections</a></li><li class=\"\" role=\"presentation\"><a aria-selected=\"false\" data-testid=\"site-menu-network-tab\" href=\"#network\" id=\"navNetwork\" role=\"tab\" tabindex=\"-1\">Network</a></li></ul></div><main id=\"content\"><div class=\"_1JART _3ECgH _2TEVJ OK924 KNwOD\"><article class=\"_2yRSr\"><section class=\"_3OhA4\"><div class=\"_2h56q _2bGxr\"><div class=\"_3J1te\"><h5 class=\"_3-xPQ\"><span><span data-testid=\"byline\"><a href=\"/by/peter-hartcher-hve0w\" title=\"Articles by Peter Hartcher\">Peter Hartcher</a></span></span></h5></div></div><div class=\"_2CSKo noPrint\"><div class=\"_1KqZ_\"><div class=\"hLTvJ\"><div aria-hidden=\"true\" class=\"_1lwFz uXbxr\" id=\"saveTooltip\" role=\"tooltip\">,<!-- --> <a data-testid=\"login-register\" href=\"https://theage.myfairfax.com.au/channel/4vLxp6nBuWVKEPLaQuUKwA/members/signups/new?callback_uri=\">register</a> <!-- -->or <a href=\"https://subscribe.theage.com.au/?promote_channel=HI_HL_GNL\">subscribe</a> <!-- -->to save articles for later.</div></div></div></div></section><section class=\"vPaWe\" data-testid=\"article-body-bottom\"><div class=\"_1ysFk\"><div class=\"_22FRK _2spQv\"><section class=\"aKWhn noPrint\" id=\"endOfArticle\"><div class=\"dLGbc\"><div class=\"hLTvJ\"><div aria-hidden=\"true\" class=\"_1lwFz uXbxr\" id=\"saveTooltip\" role=\"tooltip\">,<!-- --> <a data-testid=\"login-register\" href=\"https://theage.myfairfax.com.au/channel/4vLxp6nBuWVKEPLaQuUKwA/members/signups/new?callback_uri=\">register</a> <!-- -->or <a href=\"https://subscribe.theage.com.au/?promote_channel=HI_HL_GNL\">subscribe</a> <!-- -->to save articles for later.</div></div><div class=\"_8Cum8\"><a class=\"_4oUp_\" href=\"http://rightsportal.copyright.com.au/pages/republicationpage.aspx?author=Peter%20Hartcher&amp;publication=TAG&amp;publicationdate=2024-02-04T18%3A00%3A00Z&amp;publisher=fxj&amp;title=Allies%20%E2%80%98have%20to%20compete%20aggressively%E2%80%99%20with%20China%20for%20Pacific%20security%2C%20US%20warns&amp;url=https%3A%2F%2Fwww.theage.com.au%2Fpolitics%2Ffederal%2Fallies-have-to-compete-aggressively-with-china-for-pacific-security-us-warns-20240204-p5f2aj.html\">License this article</a></div><div class=\"ZFgNO\"><ul class=\"_3Nz34\"><li><a class=\"_2Tz1_\" href=\"/topic/regional-security-1mov\">Regional security</a></li><li><a class=\"_2Tz1_\" href=\"/topic/papua-new-guinea-e2a\">Papua New Guinea</a></li><li><a class=\"_2Tz1_\" href=\"/subscriber-centre\">For subscribers</a></li><li><a class=\"_2Tz1_\" href=\"/topic/china-relations-1n86\">China relations</a></li><li><a class=\"_2Tz1_\" href=\"/topic/china-89a\">China</a></li><li><a class=\"_2Tz1_\" href=\"/topic/world-politics-ho1\">World politics</a></li></ul></div></div></section><div class=\"_2Cg_3\"><div class=\"iQMz1\" hidden=\"\"><div class=\"_1Oml5\"><a class=\"_3NFLJ\" href=\"/by/peter-hartcher-hve0w\" title=\"Articles by Peter Hartcher\">Peter Hartcher</a> is political editor and international editor of The Sydney Morning Herald and The Age.<span class=\"_11p0O\">Connect via <a href=\"mailto:phartcher@smh.com.au\">email</a>.</span></div></div></div></div></div></section></article></div></main></div></body>\\nThe output should be formatted as a JSON instance that conforms to the JSON schema below.\\n\\nAs an example, for the schema {\"properties\": {\"foo\": {\"title\": \"Foo\", \"description\": \"a list of strings\", \"type\": \"array\", \"items\": {\"type\": \"string\"}}}, \"required\": [\"foo\"]}\\nthe object {\"foo\": [\"bar\", \"baz\"]} is a well-formatted instance of the schema. The object {\"properties\": {\"foo\": [\"bar\", \"baz\"]}} is not well-formatted.\\n\\nHere is the output schema:\\n```\\n{\"properties\": {\"title\": {\"title\": \"Title\", \"description\": \"The title of the article\", \"type\": \"string\"}, \"published_at\": {\"title\": \"Published At\", \"description\": \"The date the article was published\", \"type\": \"string\", \"format\": \"date-time\"}}, \"required\": [\"title\", \"published_at\"]}\\n```\\n')]\n",
      "Invoking initial messages...\n",
      "content='{\\n    \"title\": \"Allies ‘have to compete aggressively’ with China for Pacific security, US warns\",\\n    \"published_at\": \"2024-02-04T18:00:00Z\"\\n}'\n",
      "title='Allies ‘have to compete aggressively’ with China for Pacific security, US warns' published_at=datetime.datetime(2024, 2, 4, 18, 0, tzinfo=datetime.timezone.utc)\n"
     ]
    }
   ],
   "source": [
    "article_info = agent.find_article_info(soup)"
   ]
  },
  {
   "cell_type": "code",
   "execution_count": 6,
   "metadata": {},
   "outputs": [
    {
     "data": {
      "text/plain": [
       "datetime.datetime(2024, 2, 4, 11, 30, tzinfo=datetime.timezone.utc)"
      ]
     },
     "execution_count": 6,
     "metadata": {},
     "output_type": "execute_result"
    }
   ],
   "source": [
    "article_info[0].published_at"
   ]
  }
 ],
 "metadata": {
  "kernelspec": {
   "display_name": "news-scraping-5UrvTVFv",
   "language": "python",
   "name": "python3"
  },
  "language_info": {
   "codemirror_mode": {
    "name": "ipython",
    "version": 3
   },
   "file_extension": ".py",
   "mimetype": "text/x-python",
   "name": "python",
   "nbconvert_exporter": "python",
   "pygments_lexer": "ipython3",
   "version": "3.12.1"
  }
 },
 "nbformat": 4,
 "nbformat_minor": 2
}
